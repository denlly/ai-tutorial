{
 "cells": [
  {
   "cell_type": "markdown",
   "metadata": {},
   "source": [
    "## NumPy 简介\n",
    "- 功能强大的N维（N-dimensional）数组计算包\n",
    "- 有用的线性代数，傅里叶变换和随机数功能"
   ]
  },
  {
   "cell_type": "markdown",
   "metadata": {},
   "source": [
    "### Basic\n",
    "\n",
    "- ndarray.ndim 数组轴的数\n",
    "- ndarray.shape sharp(n,m)表示一个n行m列的数组\n",
    "- ndarray.size 表示array的元素总数\n",
    "- ndarray.dtype 表示元素的类型，一般来说 numpy.int16, numpy.int32, numpy.float64\n",
    "- ndarray.itemsize 表示数组中一个元素占用内存的bit大小\n",
    "- ndarray.data 包含数组实际元素的缓冲区"
   ]
  },
  {
   "cell_type": "code",
   "execution_count": 12,
   "metadata": {},
   "outputs": [
    {
     "name": "stdout",
     "output_type": "stream",
     "text": [
      "[[ 0  1  2  3  4]\n",
      " [ 5  6  7  8  9]\n",
      " [10 11 12 13 14]]\n",
      "(3, 5)\n",
      "15\n",
      "int64\n",
      "8\n",
      "15\n",
      "<class 'numpy.ndarray'>\n",
      "<memory at 0x11ac3f8b8>\n"
     ]
    }
   ],
   "source": [
    "import numpy as np\n",
    "a = np.arange(15).reshape(3,5)\n",
    "print(a) \n",
    "print(a.shape)\n",
    "print(a.size)\n",
    "print(a.dtype.name)\n",
    "print(a.itemsize)\n",
    "print(a.size)\n",
    "print(type(a))\n",
    "print(a.data)\n"
   ]
  },
  {
   "cell_type": "markdown",
   "metadata": {},
   "source": [
    "#### 数组的创建"
   ]
  },
  {
   "cell_type": "code",
   "execution_count": 17,
   "metadata": {},
   "outputs": [
    {
     "name": "stdout",
     "output_type": "stream",
     "text": [
      "[2 3 4]\n",
      "int64\n",
      "[[1.5 2.  3. ]\n",
      " [4.  5.  6. ]]\n",
      "float64\n"
     ]
    }
   ],
   "source": [
    "arr_1 = np.array([2,3,4])  #一维数组\n",
    "print(arr)\n",
    "print(arr_1.dtype)\n",
    "arr_2 = np.array([(1.5,2,3), (4,5,6)])\n",
    "print(arr_2)\n",
    "print(arr_2.dtype)"
   ]
  },
  {
   "cell_type": "markdown",
   "metadata": {},
   "source": [
    "> Tip: Array 大小原本是不知道的，但是知道每一个元素的大小，这些最小化了增加阵列的必要性，而且一项昂贵的操作"
   ]
  },
  {
   "cell_type": "code",
   "execution_count": 30,
   "metadata": {},
   "outputs": [
    {
     "name": "stdout",
     "output_type": "stream",
     "text": [
      "by zeros [[0. 0. 0. 0.]\n",
      " [0. 0. 0. 0.]\n",
      " [0. 0. 0. 0.]]\n",
      "by ones [[[1 1 1 1]\n",
      "  [1 1 1 1]\n",
      "  [1 1 1 1]]\n",
      "\n",
      " [[1 1 1 1]\n",
      "  [1 1 1 1]\n",
      "  [1 1 1 1]]]\n",
      "by Range [10 15 20 25]\n"
     ]
    }
   ],
   "source": [
    "createZeros = np.zeros((3,4))\n",
    "print('by zeros' ,createZeros)\n",
    "\n",
    "createOnes = np.ones((2,3,4),dtype= np.int16)\n",
    "print('by ones', createOnes)\n",
    "\n",
    "createRange = np.arange( 10, 30, 5 )\n",
    "print('by Range',createRange)"
   ]
  },
  {
   "cell_type": "code",
   "execution_count": 34,
   "metadata": {},
   "outputs": [
    {
     "name": "stdout",
     "output_type": "stream",
     "text": [
      "by Range [1.  1.5 2.  2.5]\n",
      "use linspace [0.         0.28571429 0.57142857 0.85714286 1.14285714 1.42857143\n",
      " 1.71428571 2.        ]\n"
     ]
    }
   ],
   "source": [
    "createRangeFloat = np.arange( 1, 3, 0.5 )\n",
    "print('by Range',createRangeFloat)   # 通常来说我们并不使用float这个作为步长，使用linspace\n",
    "\n",
    "createArray = np.linspace(0,2,8)\n",
    "print('use linspace', createArray)"
   ]
  },
  {
   "cell_type": "code",
   "execution_count": null,
   "metadata": {},
   "outputs": [],
   "source": []
  }
 ],
 "metadata": {
  "kernelspec": {
   "display_name": "Python 3",
   "language": "python",
   "name": "python3"
  },
  "language_info": {
   "codemirror_mode": {
    "name": "ipython",
    "version": 3
   },
   "file_extension": ".py",
   "mimetype": "text/x-python",
   "name": "python",
   "nbconvert_exporter": "python",
   "pygments_lexer": "ipython3",
   "version": "3.7.3"
  }
 },
 "nbformat": 4,
 "nbformat_minor": 2
}
